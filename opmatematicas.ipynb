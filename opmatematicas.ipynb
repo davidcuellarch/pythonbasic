{
 "cells": [
  {
   "cell_type": "code",
   "execution_count": 9,
   "id": "9f67c3c5",
   "metadata": {},
   "outputs": [
    {
     "name": "stdout",
     "output_type": "stream",
     "text": [
      "suma = 133\n",
      "resta = 67\n",
      "multiplicación = 3300\n",
      "división = 3.0303030303030303\n",
      "potencia = 10000\n",
      "Modulo = 1\n",
      "División entera = 3\n",
      "resultado:  10\n",
      "operación 1: 80\n",
      "operación 2: 130\n",
      " Operación Compleja: 27.5\n"
     ]
    }
   ],
   "source": [
    "a = 100\n",
    "b = 33\n",
    "print(\"suma =\", a + b)\n",
    "print(\"resta =\", a - b)\n",
    "print(\"multiplicación =\", a * b)\n",
    "print(\"división =\", a / b)\n",
    "print(\"potencia =\", a ** 2) # es a elevado a b\n",
    "print(\"Modulo =\", a % b)# es el residuo de la división\n",
    "print(\"División entera =\", a // b) # es la división sin decimales\n",
    "a //= 10\n",
    "print(\"resultado: \", a)\n",
    "\n",
    "operation_1 = 2 + 3 * 26\n",
    "operattion_2 = (2 + 3 ) * 26\n",
    "print(\"operación 1:\", operation_1)\n",
    "print(\"operación 2:\", operattion_2)\n",
    "complex_operation = (2 + 3) * (26 - 4) / (2 ** 2)\n",
    "print(\" Operación Compleja:\", complex_operation)\n"
   ]
  },
  {
   "cell_type": "code",
   "execution_count": 13,
   "id": "140848f2",
   "metadata": {},
   "outputs": [
    {
     "name": "stdout",
     "output_type": "stream",
     "text": [
      "False\n",
      "True\n",
      "False\n",
      "True\n",
      "False\n"
     ]
    }
   ],
   "source": [
    "a = 10.1\n",
    "b = 10\n",
    "print( a < b)  # menor que\n",
    "print( a > b)  # mayor que\n",
    "print( a <= b) # menor o igual que\n",
    "print( a >= b) # mayor o igual que\n",
    "print( a == b) # igual que"
   ]
  }
 ],
 "metadata": {
  "kernelspec": {
   "display_name": "Python 3",
   "language": "python",
   "name": "python3"
  },
  "language_info": {
   "codemirror_mode": {
    "name": "ipython",
    "version": 3
   },
   "file_extension": ".py",
   "mimetype": "text/x-python",
   "name": "python",
   "nbconvert_exporter": "python",
   "pygments_lexer": "ipython3",
   "version": "3.9.13"
  }
 },
 "nbformat": 4,
 "nbformat_minor": 5
}
