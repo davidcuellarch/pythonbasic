{
 "cells": [
  {
   "cell_type": "code",
   "execution_count": 19,
   "id": "265f9c2a",
   "metadata": {},
   "outputs": [
    {
     "name": "stdout",
     "output_type": "stream",
     "text": [
      "david\n",
      "david\n",
      "d\n",
      "davi\n",
      "\n",
      "hola david, como estas? adios david, que tengas un buen dia\n",
      "daviddaviddavid\n",
      "daviddaviddavid\n",
      "5\n",
      "46\n",
      "DAVID\n",
      "david\n",
      "HOLA DAVID, COMO ESTAS?\n"
     ]
    }
   ],
   "source": [
    "name = '''david'''\n",
    "\n",
    "print(name)\n",
    "\n",
    "saludo = 'hola david, como estas?'\n",
    "despedida = 'adios david, que tengas un buen dia'\n",
    "print(name)\n",
    "\n",
    "print(name[0])\n",
    "print(name[0:4])  # Slicing the first four characters\n",
    "print(name[5:10])  # Slicing characters from index 5 to 9\n",
    "\n",
    "print( saludo +\" \" +despedida )  # Concatenating two strings\n",
    "\n",
    "print(name * 3)  # Repeating the string three times\n",
    "print(3* name)  # Repeating the string three times using a different syntax\n",
    "\n",
    "print(len(name))  # Getting the length of the string\n",
    "print(len(saludo) + len(saludo))  # Getting the length of the greeting string\n",
    "\n",
    "print(name.upper())  # Converting the string to uppercase\n",
    "print(name.lower())  # Converting the string to lowercase\n",
    "\n",
    "print(saludo.upper())  # Converting the greeting string to uppercase"
   ]
  },
  {
   "cell_type": "code",
   "execution_count": null,
   "id": "536f1d34",
   "metadata": {},
   "outputs": [
    {
     "name": "stdout",
     "output_type": "stream",
     "text": [
      "el valor de x es 10 y su tipo es <class 'int'>\n",
      "el valor de y es 4.678 y su tipo es <class 'float'>\n",
      "el valor de z es 1200000.0 y su tipo es <class 'float'>\n"
     ]
    }
   ],
   "source": [
    "x = 10\n",
    "y = 4.678\n",
    "z = 1.2E6\n",
    "f = True\n",
    "t = False\n",
    "#### prints ####\n",
    "print(f'el valor de x es {x} y su tipo es {type(x)}')\n",
    "print(f'el valor de y es {y} y su tipo es {type(y)}')\n",
    "print(f'el valor de z es {z} y su tipo es {type(z)}')\n",
    "print(f'el valor de f es {f} y su tipo es {type(f)}')"
   ]
  }
 ],
 "metadata": {
  "kernelspec": {
   "display_name": "Python 3",
   "language": "python",
   "name": "python3"
  },
  "language_info": {
   "codemirror_mode": {
    "name": "ipython",
    "version": 3
   },
   "file_extension": ".py",
   "mimetype": "text/x-python",
   "name": "python",
   "nbconvert_exporter": "python",
   "pygments_lexer": "ipython3",
   "version": "3.9.13"
  }
 },
 "nbformat": 4,
 "nbformat_minor": 5
}
